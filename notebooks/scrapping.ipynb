{
 "cells": [
  {
   "cell_type": "code",
   "execution_count": 1,
   "metadata": {},
   "outputs": [],
   "source": [
    "import requests\n",
    "from bs4 import BeautifulSoup"
   ]
  },
  {
   "cell_type": "code",
   "execution_count": 2,
   "metadata": {},
   "outputs": [
    {
     "data": {
      "text/plain": [
       "'\\nif page.status_code == 200:\\n    print(\"All good\")\\nelse:\\n    print(f\"Error: {response.status_code}\")\\n'"
      ]
     },
     "execution_count": 2,
     "metadata": {},
     "output_type": "execute_result"
    }
   ],
   "source": [
    "page = requests.get(\"https://www.cityfillarit.fi/en/\")\n",
    "\n",
    "#print(page.status_code == 200)\n",
    "\n",
    "'''\n",
    "if page.status_code == 200:\n",
    "    print(\"All good\")\n",
    "else:\n",
    "    print(f\"Error: {response.status_code}\")\n",
    "'''"
   ]
  },
  {
   "cell_type": "code",
   "execution_count": 3,
   "metadata": {},
   "outputs": [],
   "source": [
    "soup = BeautifulSoup(page.content, \"html.parser\")"
   ]
  },
  {
   "cell_type": "code",
   "execution_count": 4,
   "metadata": {},
   "outputs": [],
   "source": [
    "body = soup.find('body')"
   ]
  },
  {
   "cell_type": "code",
   "execution_count": 5,
   "metadata": {},
   "outputs": [],
   "source": [
    "station_spans = body.find_all('span', class_='cb-station-name')\n",
    "#print(station_spans)"
   ]
  },
  {
   "cell_type": "code",
   "execution_count": 7,
   "metadata": {},
   "outputs": [
    {
     "name": "stdout",
     "output_type": "stream",
     "text": [
      "['A.I. Virtasen aukio', 'Aalto-yliopisto (M), Korkeakouluaukio', 'Aalto-yliopisto (M), Tietotie', 'Aapraminkaari', 'Abraham Wetterin tie', 'Agnetankuja', 'Agronominkatu', 'Ahertajantie', 'Ainontie', 'Ajomiehentie', 'Ala-Malmin tori', 'Alakiventie', 'Albertinkatu', 'Alppikylä', 'Annankatu', 'Ansatie', 'Antaksentie', 'Apollonkatu', 'Arabian kauppakeskus', 'Arabiankatu', 'Arielinkatu', 'Asentajanpuisto', 'Aulangontie', 'Auringonkatu', 'Aurinkokivenpiha', 'Aurinkolahdenaukio', 'Aurinkotuulenkatu', 'Avaruuskatu', 'Avia-aukio', 'Baana', 'Bermudankuja', 'Betonimies', 'Brahen kenttä', 'Brahen puistikko', 'Cygnaeuksenkatu', 'Derby Business Park', 'Designmuseo', 'Diakoniapuisto', 'Eerikinkatu', 'Ehrenströmintie', 'Elfvik', 'Elimäenkatu', 'Eläinmuseo', 'Energia Areena', 'Erottajan aukio', 'Eränkävijäntori', 'Esterinportti', 'Eteläesplanadi', 'Etuniementie', 'Etupellonpuisto', 'Fleminginkatu', 'Friisilänaukio', 'Gallen-Kallelan tie', 'Gebhardinaukio', 'Golfpolku', 'Gransinmäki', 'Gunillantie', 'Gyldenintie', 'Haagan tori', 'Haakoninlahdenkatu', 'Haapaniemenkatu', 'Haapasaarentie', 'Hagalundinpuisto', 'Hagelstaminpuisto', 'Hagelstamintie', 'Hakalehto', 'Hakaniemi (M)', 'Hakuninmaa', 'Halkaisijantie', 'Halmetie', 'Hanasaari', 'Hankasuontie', 'Hauenkallio', 'Hauenkalliontie', 'Haukilahdenaukio', 'Haukilahdenkatu', 'Haukilahdenranta', 'Haukilahdensolmu', 'Heikinlaakso', 'Heikkilänaukio', 'Heikkiläntie', 'Helluntairaitti', 'Hernepellontie', 'Hernesaarenranta', 'Hernetie', 'Hertanmäenkatu', 'Herttoniemen kirkko', 'Herttoniemenranta', 'Herttoniemi (M)', 'Heureka', 'Hiekkaharjun asema', 'Hiekkaharjun liikuntapuisto', 'Hiekkatie', 'Hietalahdentori', 'Hietaniemenkatu', 'Honkasuo', 'Honkasuo', 'Huhtakuja', 'Humalniementie', 'Humikkalankuja', 'Huopalahden asema', 'Huopalahdentie', 'Huovitie', 'Hämeenlinnanväylä', 'Ida Aalbergin tie', 'Ilmalan asema', 'Innopoli', 'Intiankatu', 'Isoisänsilta', 'Itäkeskus (M)', 'Itäkeskus Metrovarikko', 'Itälahdenkatu', 'Itämerentori', 'Itäportti', 'Jakomäentie', 'Jakomäki', 'Jalavatie', 'Jokiniemenkatu', 'Jokipellontie', 'Jollas', 'Juhana Herttuan tie', 'Jumbo P1-taso', 'Jumbo P3-taso', 'Jämeräntaival', 'Jännetie', 'Jätkäsaarenlaituri', 'Jäähalli', 'Kaapelitehdas', 'Kaisaniemenpuisto', 'Kaivokselantie', 'Kaivonkatsojanpuisto', 'Kaivopuisto', 'Kalannintie', 'Kalasatama (M)', 'Kalevalantie', 'Kalevankatu', 'Kalkkihiekantie', 'Kalkkipellonmäki', 'Kamppi (M)', 'Kanavaranta', 'Kannelmäen asema', 'Kannelmäen liikuntapuisto', 'Kansallismuseo', 'Kapteeninpuistikko', 'Karhulantie', 'Karhusuontie', 'Kartanonkosken liikuntapuisto', 'Karviaistie', 'Kasarmitori', 'Katariina Saksilaisen katu', 'Kauppakeskus Columbus', 'Kauppakeskus Kaari', 'Kauppakorkeakoulu', 'Kauppalaivurintie', 'Kaustisentie', 'Keilalahti', 'Keilaniemi (M)', 'Keilaranta', 'Kesäkatu', 'Kiasma', 'Kilterinaukio', 'Kirkkoherrantie', 'Kiskanpuisto', 'Kiskontie', 'Kivikon liikuntapuisto', 'Kivikonkaari', 'Kivikonlaita', 'Kivistön asema', 'Koetilankuja', 'Koivu-Mankkaa', 'Koivukylän asema', 'Koivusaari (M)', 'Koivutori', 'Koivuvaarankuja', 'Komeetankatu', 'Komentajankatu', 'Kontula (M)', 'Kontulankaari', 'Korjaamo', 'Korkeasaari', 'Korppaanmäentie', 'Koskelan varikko', 'Koskelantie', 'Kotinummentie', 'Koukkusaarentie', 'Kriikunakuja', 'Kuikkarinne', 'Kukinkuja', 'Kulosaari (M)', 'Kulttuuriaukio', 'Kuninkaantammi', 'Kuohukuja', 'Kurjenpolvenpuisto', 'Kurkijoentie', 'Kurkimäentie', 'Kurkimäki', 'Kustaankartano', 'Kustaankatu', 'Kutsuntatie', 'Kuunkatu', 'Kuusisaari', 'Kuusitie', 'Kydönaukio', 'Kylävoudintie', 'Käpylän asema', 'Käpyläntie', 'Kössi Koskisen aukio', 'Laajalahden aukio', 'Laajalahden keskus', 'Laajasalon ostoskeskus', 'Laajavuorentie', 'Laivalahden puistotie', 'Laivasillankatu', 'Lallukankuja', 'Lammasrinne', 'Lastenlehto', 'Laulurastaantie', 'Lauttasaaren ostoskeskus', 'Lauttasaarensilta', 'Lehtisaarentie', 'Leikosaarentie', 'Leinelän asema', 'Leinikkitie', 'Lepolantie', 'Leppäsuonaukio', 'Leppävaaran uimahalli', 'Leppävaaran urheilupuisto', 'Leppävaaranaukio', 'Leppävaarankäytävä', 'Lettopolku', 'Liesikuja', 'Liisanpuistikko', 'Liljatie', 'Lincolninaukio', 'Linnakepolku', 'Linnanmäki', 'Linnuntie', 'Lintulahdenkatu', 'Lokitie', 'Louhelan asema', 'Louhentori', 'Luhtimäki', 'Lukutori', 'Luoteisväylä', 'Lystimäensilta', 'Lystimäki', 'Läkkitori', 'Länsisatamankatu', 'Länsisatamankuja', 'Länsiterminaali', 'Länsituuli', 'Maalitori', 'Maarinranta', 'Maatullinkuja', 'Maistraatintori', 'Maitikka-aukio', 'Majurinkulma', 'Malmin asema', 'Malmin sairaala', 'Malminiitynpolku', 'Malminiitynpuisto', 'Malminkartanon asema', 'Malminkartanonhuippu', 'Mamsellimyllynkatu', 'Mankkaanaukio', 'Mankkaanlaaksontie', 'Mannerheimintie', 'Margareetankuja', 'Marian sairaala', 'Marjaniementie', 'Marjaniemi', 'Martinkyläntie', 'Martinlaakson asema', 'Martinlaakson uimahalli', 'Martinlaaksontie', 'Marttila', 'Mastokatu', 'Matinkartanontie', 'Matinkyläntie', 'Matinlahdenranta', 'Maunula', 'Maununneva', 'Meilahden sairaala', 'Melkonkuja', 'Mellstenintie', 'Mellunmäki (M)', 'Meri-Rastilan tori', 'Merihaka', 'Meripihkatori', 'Merisotilaantori', 'Messeniuksenkatu', 'Mestarinkatu', 'Mestarintie', 'Metsänneidonpolku', 'Mikkolantie', 'Mosaiikkitori', 'Munkkiniemen aukio', 'Munkkivuoren ostoskeskus', 'Muotoilijankatu', 'Mustikkamaa', 'Muurarinkuja', 'Muusantori', 'Myllypuro (M)', 'Myyrmäen asema', 'Myyrmäen jäähalli', 'Myyrmäen uimahalli', 'Mäkelänkatu', 'Mäkitorpantie', 'Mäkkylän asema', 'Mäntyviita', 'Narinkka', 'Nelikkotie', 'Niittykumpu (M)', 'Niittymaa', 'Nokkala', 'Nordenskiöldinaukio', 'Nuijatie', 'Nuottaniementie', 'Näkinsilta', 'Näyttelijäntie', 'Olarinluoma', 'Oljenkorsi', 'Ollaksentie', 'Olympiastadion', 'Ooppera', 'Opastinsilta', 'Oravannahkatori', 'Orionintie', 'Orpaanporras', 'Osumakuja', 'Otaranta', 'Otsolahti', 'Otto Brandtin tie', 'Oulunkylän asema', 'Outotec', 'Paavalinpuisto', 'Paciuksenkaari', 'Paciuksenkatu', 'Painiitty', 'Pajamäki', 'Pajupillintie', 'Pakkalan puistotie', 'Paloheinän kirjasto', 'Paloheinän maja', 'Paloheinäntie', 'Pasilan asema', 'Pernajantie', 'Perämiehenkatu', 'Petikontie', 'Petter Wetterin tie', 'Peukaloisentie', 'Pihlajamäki', 'Piikintie', 'Piispankallio', 'Piispanportti', 'Piispansilta', 'Pirkkolan liikuntapuisto', 'Pitäjänmäen asema', 'Pohjankulma', 'Pohjois-Haagan asema', 'Pohjolanaukio', 'Pohjolankatu', 'Porolahden koulu', 'Porthania', 'Porvarintie', 'Postipuisto', 'Postipuun koulu', 'Prinsessantie', 'Puistokaari', 'Puistolan VPK', 'Puistolan asema', 'Pukinmäen asema', 'Pukinmäen liikuntapuisto', 'Punakiventie', 'Puotila (M)', 'Puotilan ostoskeskus', 'Puotilantie', 'Puotinharju', 'Puotinkylän kartano', 'Purjetie', 'Puutarhatie', 'Pyhtäänkorventie', 'Pähkinärinteen kirjasto', 'Päijänteentie', 'Radiokatu', 'Rajasaarentie', 'Ramsinniementie', 'Rapakiventie', 'Rastila (M)', 'Ratapihantie', 'Ratsutori', 'Rautatieläisenkatu', 'Rautatientori / itä', 'Rautatientori / länsi', 'Reiherintie', 'Rekolan asema', 'Relanderinaukio', 'Revontulentie', 'Riistakuja', 'Rillitori', 'Ritarikatu', 'Robert Huberin tie', 'Roihupelto', 'Rubiinipuisto', 'Rukatunturintie', 'Rummunlyöjänkatu', 'Ruomelantie', 'Ruskeasuon varikko', 'Ruutikatu', 'Rälssitie', 'Sairaalakatu', 'Sallatunturintie', 'Salmisaarenranta', 'Sammonpuistikko', 'Sananjalanpolku', 'Saniaiskuja', 'Sateenkaarentie', 'Sateentie', 'Saunalahdentie', 'Sauvatie', 'Savela', 'Senaatintori', 'Sepetlahdentie', 'Sepänkatu', 'Seurasaari', 'Siilitie (M)', 'Siilitie 13', 'Siilitie 9', 'Siltamäki', 'Siltavoudintie', 'Silvola', 'Sinkilätie', 'Sofianlehdonkatu', 'Sompasaari', 'Stenbäckinkatu', 'Sumukuja', 'Suokalliontie', 'Suomenlahdentie', 'Suopursunaukio', 'Suurpellonaukio', 'Syystie', 'Sähkömies', 'Säteri', 'Säterinniitty', 'Säterinrinne', 'Sörnäinen (M)', 'Tahkotie', 'Takomotie', 'Talkootori', 'Tammisalon aukio', 'Tammiston kauppatie', 'Tammistonkatu', 'Tammistontie', 'Tapanilan asema', 'Tapaninkyläntie', 'Tapiolan urheilupuisto', 'Tapionaukio', 'Tarhurinaukio', 'Tasetie', 'Teerisuontie', 'Tekniikantie', 'Teknobulevardi', 'Teletie', 'Teljäntie', 'Tenholantie', 'Teollisuuskatu', 'Teurastamo', 'Thalianaukio', 'Tietäjä', 'Tiistiläntie', 'Tiistinkallio', 'Tikkurilan asema', 'Tikkurilan urheilupuisto', 'Tilkantori', 'Tilkanvierto', 'Tilketori', 'Toinen linja', 'Tollinpolku', 'Tontunmäentie', 'Toppelundinportti', 'Toppelundintie', 'Torpanranta', 'Torpparinmäentie', 'Trumpettikuja', 'Tulisuontie', 'Tunnelitie', 'Tuohipolku', 'Tupasaarentie', 'Tuukkalantie', 'Tuulimäki', 'Tuupakankuja', 'Tyynenmerenkatu', 'Töyrynummentie', 'Töyrynummi', 'Töölönkatu', 'Töölönlahden puisto', 'Töölönlahdenkatu', 'Töölöntori', 'Töölöntulli', 'Uimastadion', 'Ulappasilta', 'Ulvilantie', 'Unioninkatu', 'Upseerinkatu', 'Urhea-kampus', 'Urheilupuisto (M)', 'Urheilutie', 'Vaisala', 'Valimon asema', 'Valimotie', 'Vallikatu', 'Vallilan\\xa0varikko', 'Vallipolku', 'Vanha Kauppahalli', 'Vanha Tapanilantie', 'Vanha Viertotie', 'Vanha kirkkopuisto', 'Vantaankosken asema', 'Vantaanlaaksontie', 'Vantaanpuisto', 'Varsapuistikko', 'Vartioharjuntie', 'Varustuksentie', 'Vehkalan asema', 'Velodrominrinne', 'Venttiilikuja', 'Verkatehtaanpuisto', 'Verkkosaari', 'Vesakkotie', 'Vetokuja', 'Vihdintie', 'Viikin normaalikoulu', 'Viikin tiedepuisto', 'Viiskulma', 'Vilhonvuorenkatu', 'Viljelijäntie', 'Virnatie', 'Voikukantie', 'Von Daehnin katu', 'Vuorimestarintori', 'Vuosaaren liikuntapuisto', 'Vuosaaren puistopolku', 'Vähäntuvantie', 'Väinö Tannerin tie', 'Välimerenkatu', 'Väärämäentie', 'Westendinasema', 'Westendintie', 'Yhdyskunnankuja', 'Ympyrätalo']\n"
     ]
    }
   ],
   "source": [
    "station_names = []\n",
    "for span in station_spans:\n",
    "    station_names.append(span.text.strip())\n",
    "\n",
    "print(station_names)"
   ]
  }
 ],
 "metadata": {
  "kernelspec": {
   "display_name": "env",
   "language": "python",
   "name": "python3"
  },
  "language_info": {
   "codemirror_mode": {
    "name": "ipython",
    "version": 3
   },
   "file_extension": ".py",
   "mimetype": "text/x-python",
   "name": "python",
   "nbconvert_exporter": "python",
   "pygments_lexer": "ipython3",
   "version": "3.9.12"
  },
  "orig_nbformat": 4
 },
 "nbformat": 4,
 "nbformat_minor": 2
}
