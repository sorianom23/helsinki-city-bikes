{
 "cells": [
  {
   "cell_type": "code",
   "execution_count": 4,
   "metadata": {},
   "outputs": [],
   "source": [
    "import pandas as pd\n",
    "import numpy as np\n",
    "\n",
    "import sys\n",
    "import seaborn as sns\n",
    "import matplotlib.pyplot as plt"
   ]
  },
  {
   "cell_type": "code",
   "execution_count": 5,
   "metadata": {},
   "outputs": [],
   "source": [
    "#sys.path.append('/Users/mariasoriano/Documents/helsinki_city_bikes/src/lib')\n",
    "#import functions"
   ]
  },
  {
   "attachments": {},
   "cell_type": "markdown",
   "metadata": {},
   "source": [
    "# Index\n",
    "\n",
    "1. [Data Inspection](#1-data-inspection)\n",
    "2. [Data Transformation](#2-data-transformation)\n",
    "3. [Outlier Detection](#3-outlier-detection)\n",
    "4. [Outlier Removal](#4-outlier-removal)"
   ]
  },
  {
   "attachments": {},
   "cell_type": "markdown",
   "metadata": {},
   "source": [
    "## 1. Data Inspection"
   ]
  },
  {
   "cell_type": "code",
   "execution_count": 6,
   "metadata": {},
   "outputs": [
    {
     "name": "stderr",
     "output_type": "stream",
     "text": [
      "/var/folders/6m/xnrf68g93dj9cnj3lwnc18b00000gn/T/ipykernel_99907/3559541780.py:1: DtypeWarning: Columns (2,4) have mixed types. Specify dtype option on import or set low_memory=False.\n",
      "  data = pd.read_csv('../data/raw/helsinki_city_bikes.csv')\n"
     ]
    },
    {
     "data": {
      "text/html": [
       "<div>\n",
       "<style scoped>\n",
       "    .dataframe tbody tr th:only-of-type {\n",
       "        vertical-align: middle;\n",
       "    }\n",
       "\n",
       "    .dataframe tbody tr th {\n",
       "        vertical-align: top;\n",
       "    }\n",
       "\n",
       "    .dataframe thead th {\n",
       "        text-align: right;\n",
       "    }\n",
       "</style>\n",
       "<table border=\"1\" class=\"dataframe\">\n",
       "  <thead>\n",
       "    <tr style=\"text-align: right;\">\n",
       "      <th></th>\n",
       "      <th>departure</th>\n",
       "      <th>return</th>\n",
       "      <th>departure_id</th>\n",
       "      <th>departure_name</th>\n",
       "      <th>return_id</th>\n",
       "      <th>return_name</th>\n",
       "      <th>distance (m)</th>\n",
       "      <th>duration (sec.)</th>\n",
       "      <th>avg_speed (km/h)</th>\n",
       "      <th>departure_latitude</th>\n",
       "      <th>departure_longitude</th>\n",
       "      <th>return_latitude</th>\n",
       "      <th>return_longitude</th>\n",
       "      <th>Air temperature (degC)</th>\n",
       "    </tr>\n",
       "  </thead>\n",
       "  <tbody>\n",
       "    <tr>\n",
       "      <th>0</th>\n",
       "      <td>2020-03-23 06:09:44</td>\n",
       "      <td>2020-03-23 06:16:26</td>\n",
       "      <td>86</td>\n",
       "      <td>Kuusitie</td>\n",
       "      <td>111.0</td>\n",
       "      <td>Esterinportti</td>\n",
       "      <td>1747.0</td>\n",
       "      <td>401.0</td>\n",
       "      <td>0.261397</td>\n",
       "      <td>60.195245</td>\n",
       "      <td>24.901900</td>\n",
       "      <td>60.197572</td>\n",
       "      <td>24.926781</td>\n",
       "      <td>0.9</td>\n",
       "    </tr>\n",
       "    <tr>\n",
       "      <th>1</th>\n",
       "      <td>2020-03-23 06:11:58</td>\n",
       "      <td>2020-03-23 06:26:31</td>\n",
       "      <td>26</td>\n",
       "      <td>Kamppi (M)</td>\n",
       "      <td>10.0</td>\n",
       "      <td>Kasarmitori</td>\n",
       "      <td>1447.0</td>\n",
       "      <td>869.0</td>\n",
       "      <td>0.099908</td>\n",
       "      <td>60.168610</td>\n",
       "      <td>24.930537</td>\n",
       "      <td>60.165017</td>\n",
       "      <td>24.949473</td>\n",
       "      <td>0.9</td>\n",
       "    </tr>\n",
       "    <tr>\n",
       "      <th>2</th>\n",
       "      <td>2020-03-23 06:16:29</td>\n",
       "      <td>2020-03-23 06:24:23</td>\n",
       "      <td>268</td>\n",
       "      <td>Porolahden koulu</td>\n",
       "      <td>254.0</td>\n",
       "      <td>Agnetankuja</td>\n",
       "      <td>1772.0</td>\n",
       "      <td>469.0</td>\n",
       "      <td>0.226695</td>\n",
       "      <td>60.195540</td>\n",
       "      <td>25.053581</td>\n",
       "      <td>60.187234</td>\n",
       "      <td>25.036412</td>\n",
       "      <td>0.9</td>\n",
       "    </tr>\n",
       "    <tr>\n",
       "      <th>3</th>\n",
       "      <td>2020-03-23 06:33:53</td>\n",
       "      <td>2020-03-23 07:14:03</td>\n",
       "      <td>751</td>\n",
       "      <td>Vallipolku</td>\n",
       "      <td>106.0</td>\n",
       "      <td>Korppaanmäentie</td>\n",
       "      <td>7456.0</td>\n",
       "      <td>2406.0</td>\n",
       "      <td>0.185935</td>\n",
       "      <td>60.227827</td>\n",
       "      <td>24.819614</td>\n",
       "      <td>60.203474</td>\n",
       "      <td>24.898930</td>\n",
       "      <td>0.9</td>\n",
       "    </tr>\n",
       "    <tr>\n",
       "      <th>4</th>\n",
       "      <td>2020-03-23 06:36:09</td>\n",
       "      <td>2020-03-23 07:04:10</td>\n",
       "      <td>62</td>\n",
       "      <td>Länsisatamankatu</td>\n",
       "      <td>121.0</td>\n",
       "      <td>Vilhonvuorenkatu</td>\n",
       "      <td>7120.0</td>\n",
       "      <td>1679.0</td>\n",
       "      <td>0.254437</td>\n",
       "      <td>60.158928</td>\n",
       "      <td>24.909692</td>\n",
       "      <td>60.186463</td>\n",
       "      <td>24.967872</td>\n",
       "      <td>0.9</td>\n",
       "    </tr>\n",
       "  </tbody>\n",
       "</table>\n",
       "</div>"
      ],
      "text/plain": [
       "             departure               return departure_id    departure_name   \n",
       "0  2020-03-23 06:09:44  2020-03-23 06:16:26           86          Kuusitie  \\\n",
       "1  2020-03-23 06:11:58  2020-03-23 06:26:31           26        Kamppi (M)   \n",
       "2  2020-03-23 06:16:29  2020-03-23 06:24:23          268  Porolahden koulu   \n",
       "3  2020-03-23 06:33:53  2020-03-23 07:14:03          751        Vallipolku   \n",
       "4  2020-03-23 06:36:09  2020-03-23 07:04:10           62  Länsisatamankatu   \n",
       "\n",
       "  return_id       return_name  distance (m)  duration (sec.)   \n",
       "0     111.0     Esterinportti        1747.0            401.0  \\\n",
       "1      10.0       Kasarmitori        1447.0            869.0   \n",
       "2     254.0       Agnetankuja        1772.0            469.0   \n",
       "3     106.0   Korppaanmäentie        7456.0           2406.0   \n",
       "4     121.0  Vilhonvuorenkatu        7120.0           1679.0   \n",
       "\n",
       "   avg_speed (km/h)  departure_latitude  departure_longitude  return_latitude   \n",
       "0          0.261397           60.195245            24.901900        60.197572  \\\n",
       "1          0.099908           60.168610            24.930537        60.165017   \n",
       "2          0.226695           60.195540            25.053581        60.187234   \n",
       "3          0.185935           60.227827            24.819614        60.203474   \n",
       "4          0.254437           60.158928            24.909692        60.186463   \n",
       "\n",
       "   return_longitude  Air temperature (degC)  \n",
       "0         24.926781                     0.9  \n",
       "1         24.949473                     0.9  \n",
       "2         25.036412                     0.9  \n",
       "3         24.898930                     0.9  \n",
       "4         24.967872                     0.9  "
      ]
     },
     "execution_count": 6,
     "metadata": {},
     "output_type": "execute_result"
    }
   ],
   "source": [
    "data = pd.read_csv('../data/raw/helsinki_city_bikes.csv')\n",
    "data.head()"
   ]
  },
  {
   "cell_type": "code",
   "execution_count": 7,
   "metadata": {},
   "outputs": [
    {
     "name": "stdout",
     "output_type": "stream",
     "text": [
      "Index(['departure', 'return', 'departure_id', 'departure_name', 'return_id',\n",
      "       'return_name', 'distancem', 'durationsec.', 'avg_speedkmh',\n",
      "       'departure_latitude', 'departure_longitude', 'return_latitude',\n",
      "       'return_longitude', 'airtemperaturedegc'],\n",
      "      dtype='object')\n"
     ]
    }
   ],
   "source": [
    "def clean_column_name(column_name):\n",
    "    column_name = column_name.lower()\n",
    "    column_name = column_name.replace('(', '').replace(')', '').replace('/', '').replace(' ', '')\n",
    "    return column_name\n",
    "\n",
    "data.columns = [clean_column_name(column) for column in data.columns]\n",
    "\n",
    "print(data.columns)\n"
   ]
  },
  {
   "cell_type": "code",
   "execution_count": 8,
   "metadata": {},
   "outputs": [
    {
     "data": {
      "text/plain": [
       "min    2016-05-02 09:31:00\n",
       "max    2020-10-31 23:58:46\n",
       "Name: departure, dtype: object"
      ]
     },
     "execution_count": 8,
     "metadata": {},
     "output_type": "execute_result"
    }
   ],
   "source": [
    "# Data records go from 2016 to 2020\n",
    "data['departure'].agg(['min', 'max'])"
   ]
  },
  {
   "cell_type": "code",
   "execution_count": 9,
   "metadata": {},
   "outputs": [
    {
     "data": {
      "text/html": [
       "<div>\n",
       "<style scoped>\n",
       "    .dataframe tbody tr th:only-of-type {\n",
       "        vertical-align: middle;\n",
       "    }\n",
       "\n",
       "    .dataframe tbody tr th {\n",
       "        vertical-align: top;\n",
       "    }\n",
       "\n",
       "    .dataframe thead th {\n",
       "        text-align: right;\n",
       "    }\n",
       "</style>\n",
       "<table border=\"1\" class=\"dataframe\">\n",
       "  <thead>\n",
       "    <tr style=\"text-align: right;\">\n",
       "      <th></th>\n",
       "      <th>count</th>\n",
       "      <th>mean</th>\n",
       "      <th>std</th>\n",
       "      <th>min</th>\n",
       "      <th>25%</th>\n",
       "      <th>50%</th>\n",
       "      <th>75%</th>\n",
       "      <th>max</th>\n",
       "    </tr>\n",
       "  </thead>\n",
       "  <tbody>\n",
       "    <tr>\n",
       "      <th>distancem</th>\n",
       "      <td>12157458.0</td>\n",
       "      <td>2295.275047</td>\n",
       "      <td>24520.672295</td>\n",
       "      <td>-4.292467e+06</td>\n",
       "      <td>1000.000000</td>\n",
       "      <td>1739.000000</td>\n",
       "      <td>2869.000000</td>\n",
       "      <td>3.681399e+06</td>\n",
       "    </tr>\n",
       "    <tr>\n",
       "      <th>durationsec.</th>\n",
       "      <td>12157458.0</td>\n",
       "      <td>959.775116</td>\n",
       "      <td>7346.527674</td>\n",
       "      <td>0.000000e+00</td>\n",
       "      <td>344.000000</td>\n",
       "      <td>586.000000</td>\n",
       "      <td>971.000000</td>\n",
       "      <td>5.401659e+06</td>\n",
       "    </tr>\n",
       "    <tr>\n",
       "      <th>avg_speedkmh</th>\n",
       "      <td>12153908.0</td>\n",
       "      <td>0.335556</td>\n",
       "      <td>34.280063</td>\n",
       "      <td>-4.689001e+02</td>\n",
       "      <td>0.146740</td>\n",
       "      <td>0.186368</td>\n",
       "      <td>0.220435</td>\n",
       "      <td>1.699104e+04</td>\n",
       "    </tr>\n",
       "    <tr>\n",
       "      <th>departure_latitude</th>\n",
       "      <td>12157458.0</td>\n",
       "      <td>60.179815</td>\n",
       "      <td>0.017330</td>\n",
       "      <td>6.014792e+01</td>\n",
       "      <td>60.167231</td>\n",
       "      <td>60.176080</td>\n",
       "      <td>60.189635</td>\n",
       "      <td>6.023911e+01</td>\n",
       "    </tr>\n",
       "    <tr>\n",
       "      <th>departure_longitude</th>\n",
       "      <td>12157458.0</td>\n",
       "      <td>24.920232</td>\n",
       "      <td>0.057641</td>\n",
       "      <td>2.472137e+01</td>\n",
       "      <td>24.909692</td>\n",
       "      <td>24.934066</td>\n",
       "      <td>24.950293</td>\n",
       "      <td>2.510620e+01</td>\n",
       "    </tr>\n",
       "    <tr>\n",
       "      <th>return_latitude</th>\n",
       "      <td>12157457.0</td>\n",
       "      <td>60.179708</td>\n",
       "      <td>0.017388</td>\n",
       "      <td>6.014792e+01</td>\n",
       "      <td>60.166890</td>\n",
       "      <td>60.175588</td>\n",
       "      <td>60.189635</td>\n",
       "      <td>6.023911e+01</td>\n",
       "    </tr>\n",
       "    <tr>\n",
       "      <th>return_longitude</th>\n",
       "      <td>12157457.0</td>\n",
       "      <td>24.920232</td>\n",
       "      <td>0.057833</td>\n",
       "      <td>2.472137e+01</td>\n",
       "      <td>24.909692</td>\n",
       "      <td>24.934066</td>\n",
       "      <td>24.950293</td>\n",
       "      <td>2.510620e+01</td>\n",
       "    </tr>\n",
       "    <tr>\n",
       "      <th>airtemperaturedegc</th>\n",
       "      <td>12141556.0</td>\n",
       "      <td>15.650436</td>\n",
       "      <td>5.497952</td>\n",
       "      <td>-5.200000e+00</td>\n",
       "      <td>12.300000</td>\n",
       "      <td>16.400000</td>\n",
       "      <td>19.300000</td>\n",
       "      <td>3.290000e+01</td>\n",
       "    </tr>\n",
       "  </tbody>\n",
       "</table>\n",
       "</div>"
      ],
      "text/plain": [
       "                          count         mean           std           min   \n",
       "distancem            12157458.0  2295.275047  24520.672295 -4.292467e+06  \\\n",
       "durationsec.         12157458.0   959.775116   7346.527674  0.000000e+00   \n",
       "avg_speedkmh         12153908.0     0.335556     34.280063 -4.689001e+02   \n",
       "departure_latitude   12157458.0    60.179815      0.017330  6.014792e+01   \n",
       "departure_longitude  12157458.0    24.920232      0.057641  2.472137e+01   \n",
       "return_latitude      12157457.0    60.179708      0.017388  6.014792e+01   \n",
       "return_longitude     12157457.0    24.920232      0.057833  2.472137e+01   \n",
       "airtemperaturedegc   12141556.0    15.650436      5.497952 -5.200000e+00   \n",
       "\n",
       "                             25%          50%          75%           max  \n",
       "distancem            1000.000000  1739.000000  2869.000000  3.681399e+06  \n",
       "durationsec.          344.000000   586.000000   971.000000  5.401659e+06  \n",
       "avg_speedkmh            0.146740     0.186368     0.220435  1.699104e+04  \n",
       "departure_latitude     60.167231    60.176080    60.189635  6.023911e+01  \n",
       "departure_longitude    24.909692    24.934066    24.950293  2.510620e+01  \n",
       "return_latitude        60.166890    60.175588    60.189635  6.023911e+01  \n",
       "return_longitude       24.909692    24.934066    24.950293  2.510620e+01  \n",
       "airtemperaturedegc     12.300000    16.400000    19.300000  3.290000e+01  "
      ]
     },
     "metadata": {},
     "output_type": "display_data"
    }
   ],
   "source": [
    "# Summary Statistics for each numerical column in the dataframe\n",
    "display(data.describe().T)"
   ]
  },
  {
   "cell_type": "code",
   "execution_count": 10,
   "metadata": {},
   "outputs": [
    {
     "data": {
      "text/html": [
       "<div>\n",
       "<style scoped>\n",
       "    .dataframe tbody tr th:only-of-type {\n",
       "        vertical-align: middle;\n",
       "    }\n",
       "\n",
       "    .dataframe tbody tr th {\n",
       "        vertical-align: top;\n",
       "    }\n",
       "\n",
       "    .dataframe thead th {\n",
       "        text-align: right;\n",
       "    }\n",
       "</style>\n",
       "<table border=\"1\" class=\"dataframe\">\n",
       "  <thead>\n",
       "    <tr style=\"text-align: right;\">\n",
       "      <th></th>\n",
       "      <th>count</th>\n",
       "      <th>unique</th>\n",
       "      <th>top</th>\n",
       "      <th>freq</th>\n",
       "    </tr>\n",
       "  </thead>\n",
       "  <tbody>\n",
       "    <tr>\n",
       "      <th>departure</th>\n",
       "      <td>12157458</td>\n",
       "      <td>8359376</td>\n",
       "      <td>2018-08-09 17:16:00</td>\n",
       "      <td>71</td>\n",
       "    </tr>\n",
       "    <tr>\n",
       "      <th>return</th>\n",
       "      <td>12157458</td>\n",
       "      <td>8376121</td>\n",
       "      <td>2018-08-08 17:28:00</td>\n",
       "      <td>70</td>\n",
       "    </tr>\n",
       "    <tr>\n",
       "      <th>departure_id</th>\n",
       "      <td>12157458</td>\n",
       "      <td>680</td>\n",
       "      <td>30</td>\n",
       "      <td>239931</td>\n",
       "    </tr>\n",
       "    <tr>\n",
       "      <th>departure_name</th>\n",
       "      <td>12157458</td>\n",
       "      <td>347</td>\n",
       "      <td>Itämerentori</td>\n",
       "      <td>330397</td>\n",
       "    </tr>\n",
       "    <tr>\n",
       "      <th>return_id</th>\n",
       "      <td>12157458.0</td>\n",
       "      <td>825.0</td>\n",
       "      <td>30.0</td>\n",
       "      <td>238094.0</td>\n",
       "    </tr>\n",
       "    <tr>\n",
       "      <th>return_name</th>\n",
       "      <td>12157458</td>\n",
       "      <td>348</td>\n",
       "      <td>Itämerentori</td>\n",
       "      <td>332719</td>\n",
       "    </tr>\n",
       "  </tbody>\n",
       "</table>\n",
       "</div>"
      ],
      "text/plain": [
       "                     count   unique                  top      freq\n",
       "departure         12157458  8359376  2018-08-09 17:16:00        71\n",
       "return            12157458  8376121  2018-08-08 17:28:00        70\n",
       "departure_id      12157458      680                   30    239931\n",
       "departure_name    12157458      347         Itämerentori    330397\n",
       "return_id       12157458.0    825.0                 30.0  238094.0\n",
       "return_name       12157458      348         Itämerentori    332719"
      ]
     },
     "metadata": {},
     "output_type": "display_data"
    }
   ],
   "source": [
    "# Summary Statistics for each categorical column in the dataframe\n",
    "display(data.describe(include=object).T)"
   ]
  },
  {
   "attachments": {},
   "cell_type": "markdown",
   "metadata": {},
   "source": [
    "## 2. Data Transformation"
   ]
  },
  {
   "cell_type": "code",
   "execution_count": 11,
   "metadata": {},
   "outputs": [
    {
     "data": {
      "text/html": [
       "<div>\n",
       "<style scoped>\n",
       "    .dataframe tbody tr th:only-of-type {\n",
       "        vertical-align: middle;\n",
       "    }\n",
       "\n",
       "    .dataframe tbody tr th {\n",
       "        vertical-align: top;\n",
       "    }\n",
       "\n",
       "    .dataframe thead th {\n",
       "        text-align: right;\n",
       "    }\n",
       "</style>\n",
       "<table border=\"1\" class=\"dataframe\">\n",
       "  <thead>\n",
       "    <tr style=\"text-align: right;\">\n",
       "      <th></th>\n",
       "      <th>departure</th>\n",
       "      <th>return</th>\n",
       "      <th>departure_id</th>\n",
       "      <th>departure_name</th>\n",
       "      <th>return_id</th>\n",
       "      <th>return_name</th>\n",
       "      <th>distancem</th>\n",
       "      <th>durationsec.</th>\n",
       "      <th>avg_speedkmh</th>\n",
       "      <th>departure_latitude</th>\n",
       "      <th>departure_longitude</th>\n",
       "      <th>return_latitude</th>\n",
       "      <th>return_longitude</th>\n",
       "      <th>airtemperaturedegc</th>\n",
       "      <th>distancekm</th>\n",
       "      <th>durationmin</th>\n",
       "    </tr>\n",
       "  </thead>\n",
       "  <tbody>\n",
       "    <tr>\n",
       "      <th>0</th>\n",
       "      <td>2020-03-23 06:09:44</td>\n",
       "      <td>2020-03-23 06:16:26</td>\n",
       "      <td>86</td>\n",
       "      <td>Kuusitie</td>\n",
       "      <td>111.0</td>\n",
       "      <td>Esterinportti</td>\n",
       "      <td>1747.0</td>\n",
       "      <td>401.0</td>\n",
       "      <td>0.3</td>\n",
       "      <td>60.195245</td>\n",
       "      <td>24.901900</td>\n",
       "      <td>60.197572</td>\n",
       "      <td>24.926781</td>\n",
       "      <td>0.9</td>\n",
       "      <td>1.7</td>\n",
       "      <td>6.7</td>\n",
       "    </tr>\n",
       "    <tr>\n",
       "      <th>1</th>\n",
       "      <td>2020-03-23 06:11:58</td>\n",
       "      <td>2020-03-23 06:26:31</td>\n",
       "      <td>26</td>\n",
       "      <td>Kamppi (M)</td>\n",
       "      <td>10.0</td>\n",
       "      <td>Kasarmitori</td>\n",
       "      <td>1447.0</td>\n",
       "      <td>869.0</td>\n",
       "      <td>0.1</td>\n",
       "      <td>60.168610</td>\n",
       "      <td>24.930537</td>\n",
       "      <td>60.165017</td>\n",
       "      <td>24.949473</td>\n",
       "      <td>0.9</td>\n",
       "      <td>1.4</td>\n",
       "      <td>14.5</td>\n",
       "    </tr>\n",
       "    <tr>\n",
       "      <th>2</th>\n",
       "      <td>2020-03-23 06:16:29</td>\n",
       "      <td>2020-03-23 06:24:23</td>\n",
       "      <td>268</td>\n",
       "      <td>Porolahden koulu</td>\n",
       "      <td>254.0</td>\n",
       "      <td>Agnetankuja</td>\n",
       "      <td>1772.0</td>\n",
       "      <td>469.0</td>\n",
       "      <td>0.2</td>\n",
       "      <td>60.195540</td>\n",
       "      <td>25.053581</td>\n",
       "      <td>60.187234</td>\n",
       "      <td>25.036412</td>\n",
       "      <td>0.9</td>\n",
       "      <td>1.8</td>\n",
       "      <td>7.8</td>\n",
       "    </tr>\n",
       "    <tr>\n",
       "      <th>3</th>\n",
       "      <td>2020-03-23 06:33:53</td>\n",
       "      <td>2020-03-23 07:14:03</td>\n",
       "      <td>751</td>\n",
       "      <td>Vallipolku</td>\n",
       "      <td>106.0</td>\n",
       "      <td>Korppaanmäentie</td>\n",
       "      <td>7456.0</td>\n",
       "      <td>2406.0</td>\n",
       "      <td>0.2</td>\n",
       "      <td>60.227827</td>\n",
       "      <td>24.819614</td>\n",
       "      <td>60.203474</td>\n",
       "      <td>24.898930</td>\n",
       "      <td>0.9</td>\n",
       "      <td>7.5</td>\n",
       "      <td>40.1</td>\n",
       "    </tr>\n",
       "    <tr>\n",
       "      <th>4</th>\n",
       "      <td>2020-03-23 06:36:09</td>\n",
       "      <td>2020-03-23 07:04:10</td>\n",
       "      <td>62</td>\n",
       "      <td>Länsisatamankatu</td>\n",
       "      <td>121.0</td>\n",
       "      <td>Vilhonvuorenkatu</td>\n",
       "      <td>7120.0</td>\n",
       "      <td>1679.0</td>\n",
       "      <td>0.3</td>\n",
       "      <td>60.158928</td>\n",
       "      <td>24.909692</td>\n",
       "      <td>60.186463</td>\n",
       "      <td>24.967872</td>\n",
       "      <td>0.9</td>\n",
       "      <td>7.1</td>\n",
       "      <td>28.0</td>\n",
       "    </tr>\n",
       "  </tbody>\n",
       "</table>\n",
       "</div>"
      ],
      "text/plain": [
       "             departure               return departure_id    departure_name   \n",
       "0  2020-03-23 06:09:44  2020-03-23 06:16:26           86          Kuusitie  \\\n",
       "1  2020-03-23 06:11:58  2020-03-23 06:26:31           26        Kamppi (M)   \n",
       "2  2020-03-23 06:16:29  2020-03-23 06:24:23          268  Porolahden koulu   \n",
       "3  2020-03-23 06:33:53  2020-03-23 07:14:03          751        Vallipolku   \n",
       "4  2020-03-23 06:36:09  2020-03-23 07:04:10           62  Länsisatamankatu   \n",
       "\n",
       "  return_id       return_name  distancem  durationsec.  avg_speedkmh   \n",
       "0     111.0     Esterinportti     1747.0         401.0           0.3  \\\n",
       "1      10.0       Kasarmitori     1447.0         869.0           0.1   \n",
       "2     254.0       Agnetankuja     1772.0         469.0           0.2   \n",
       "3     106.0   Korppaanmäentie     7456.0        2406.0           0.2   \n",
       "4     121.0  Vilhonvuorenkatu     7120.0        1679.0           0.3   \n",
       "\n",
       "   departure_latitude  departure_longitude  return_latitude  return_longitude   \n",
       "0           60.195245            24.901900        60.197572         24.926781  \\\n",
       "1           60.168610            24.930537        60.165017         24.949473   \n",
       "2           60.195540            25.053581        60.187234         25.036412   \n",
       "3           60.227827            24.819614        60.203474         24.898930   \n",
       "4           60.158928            24.909692        60.186463         24.967872   \n",
       "\n",
       "   airtemperaturedegc  distancekm  durationmin  \n",
       "0                 0.9         1.7          6.7  \n",
       "1                 0.9         1.4         14.5  \n",
       "2                 0.9         1.8          7.8  \n",
       "3                 0.9         7.5         40.1  \n",
       "4                 0.9         7.1         28.0  "
      ]
     },
     "execution_count": 11,
     "metadata": {},
     "output_type": "execute_result"
    }
   ],
   "source": [
    "# Make some changes on the metrics that have been used in the original dataset\n",
    "# by adding new columns where>\n",
    "# m -> km\n",
    "# sec -> min\n",
    "# and everything is rounded to 1 decimal\n",
    "\n",
    "data['distancekm']=(data['distancem'] / 1000).round(1)\n",
    "data['durationmin']=(data['durationsec.'] / 60).round(1)\n",
    "data['avg_speedkmh']=(data['avg_speedkmh']).round(1)\n",
    "data.head()"
   ]
  },
  {
   "cell_type": "code",
   "execution_count": 12,
   "metadata": {},
   "outputs": [],
   "source": [
    "# Departure column should be a datetime type of data instead of an object\n",
    "data['departure'] = pd.to_datetime(data['departure'])\n",
    "# data.info()"
   ]
  },
  {
   "cell_type": "code",
   "execution_count": 13,
   "metadata": {},
   "outputs": [],
   "source": [
    "# Adding new columns that will help later in the exploration / visualization process\n",
    "\n",
    "# Month column: Displays the name of the Month\n",
    "data['month'] = data['departure'].dt.month\n",
    "\n",
    "month_map = {1: 'January', 2: 'February', 3: 'March', 4: 'April', 5: 'May', 6: 'June', \n",
    "             7: 'July', 8: 'August', 9: 'September', 10: 'October', 11: 'November', 12: 'December'}\n",
    "\n",
    "data['month'] = data['month'].map(month_map)"
   ]
  },
  {
   "cell_type": "code",
   "execution_count": 14,
   "metadata": {},
   "outputs": [],
   "source": [
    "# Year column: Display the year \n",
    "data['year'] = data['departure'].dt.year"
   ]
  },
  {
   "cell_type": "code",
   "execution_count": 15,
   "metadata": {},
   "outputs": [],
   "source": [
    "# Total Bike Rentals per day\n",
    "data['total_rentals'] = data.groupby(data['departure'].dt.date)['departure_id'].transform('count')"
   ]
  },
  {
   "cell_type": "code",
   "execution_count": 16,
   "metadata": {},
   "outputs": [],
   "source": [
    "# Hour column: Displays the hour of the day when the rental took place (based on departure)\n",
    "data['hour'] = data['departure'].dt.hour"
   ]
  },
  {
   "cell_type": "code",
   "execution_count": 17,
   "metadata": {},
   "outputs": [],
   "source": [
    "# Weekday column: Displays the day of the week when the rental took place\n",
    "data['weekday'] = data['departure'].dt.day_name()"
   ]
  },
  {
   "attachments": {},
   "cell_type": "markdown",
   "metadata": {},
   "source": [
    "    - [X/y Split](#xy-split)\n",
    "    - [Train Test Split](#train-test-split)\n",
    "    - [Encoder](#encoder)\n",
    "    - [Standard Scaler](#standard-scaler)\n",
    "    - [MinMax Scaler](#minmax-scaler)\n",
    "\n",
    "    - [Train Prediction Score](#train-prediction-score)\n",
    "    - [Test Prediction Score](#test-prediction-score)\n",
    "    - [Model Performance Visualization](#model-performance-visualization)\n",
    "\n",
    "    - [Distributions](#distributions)\n",
    "    - [Logarithmic Transformation](#logarithmic-transformation)\n",
    "    - [Correlation](#correlation)"
   ]
  },
  {
   "attachments": {},
   "cell_type": "markdown",
   "metadata": {},
   "source": [
    "## 3. Outlier Detection"
   ]
  },
  {
   "cell_type": "code",
   "execution_count": 18,
   "metadata": {},
   "outputs": [],
   "source": [
    "# This function will be used to plot the outliers of the numerical columns\n",
    "\n",
    "def plot_outliers(data):\n",
    "    '''\n",
    "    Plot outliers of numerical columns.\n",
    "    '''\n",
    "    fig,ax = plt.subplots(2,2, figsize=(6,12))\n",
    "    plt.tight_layout()\n",
    "    ax[0,0].set_title('Total Rentals 2020')\n",
    "    sns.boxplot(y=data['total_rentals'], ax=ax[0,0])\n",
    "    ax[0,1].set_title('Air temperature in Celsius')\n",
    "    sns.boxplot(y=data['airtemperaturedegc'], ax=ax[0,1])\n",
    "    ax[1,0].set_title('Distance in km')\n",
    "    sns.boxplot(y=data['distancekm'], ax=ax[1,0])\n",
    "    ax[1,1].set_title('Duration in minutes')\n",
    "    sns.boxplot(y=data['distancem'], ax=ax[1,1])\n",
    "    #ax[2,0].set_title('Average Speed in km/h')\n",
    "    #sns.boxplot(y=data['avg_speed (km/h)'], ax=ax[2,0])\n",
    "\n",
    "    plt.tight_layout()\n",
    "    plt.show()"
   ]
  },
  {
   "cell_type": "code",
   "execution_count": 19,
   "metadata": {},
   "outputs": [
    {
     "data": {
      "image/png": "[encoded data removed]",
      "text/plain": [
       "<Figure size 600x1200 with 4 Axes>"
      ]
     },
     "metadata": {},
     "output_type": "display_data"
    }
   ],
   "source": [
    "plot_outliers(data)"
   ]
  },
  {
   "cell_type": "code",
   "execution_count": 20,
   "metadata": {},
   "outputs": [],
   "source": [
    "numerical = data.select_dtypes(np.number)\n",
    "categorical = data.select_dtypes(object)"
   ]
  },
  {
   "cell_type": "code",
   "execution_count": 21,
   "metadata": {},
   "outputs": [
    {
     "data": {
      "image/png": "[encoded data removed]",
      "text/plain": [
       "<Figure size 1000x800 with 16 Axes>"
      ]
     },
     "metadata": {},
     "output_type": "display_data"
    }
   ],
   "source": [
    "numerical.hist(bins=20, figsize=(10,8))\n",
    "plt.show()"
   ]
  },
  {
   "attachments": {},
   "cell_type": "markdown",
   "metadata": {},
   "source": [
    "## 4. Outlier Removal"
   ]
  },
  {
   "cell_type": "code",
   "execution_count": 22,
   "metadata": {},
   "outputs": [],
   "source": [
    "#data.head()"
   ]
  },
  {
   "cell_type": "code",
   "execution_count": 23,
   "metadata": {},
   "outputs": [
    {
     "data": {
      "text/plain": [
       "(12157458, 21)"
      ]
     },
     "metadata": {},
     "output_type": "display_data"
    },
    {
     "data": {
      "text/plain": [
       "(11433632, 21)"
      ]
     },
     "metadata": {},
     "output_type": "display_data"
    }
   ],
   "source": [
    "filtered_distance = data.loc[(data['distancekm'] > 0) & (data['distancekm'] < 20)]\n",
    "\n",
    "display(data.shape)\n",
    "display(filtered_distance.shape)"
   ]
  },
  {
   "cell_type": "code",
   "execution_count": 24,
   "metadata": {},
   "outputs": [
    {
     "name": "stdout",
     "output_type": "stream",
     "text": [
      "distancekm\n",
      "(0.0802, 2.08]    6397433\n",
      "(2.08, 4.06]      3596900\n",
      "(4.06, 6.04]      1117409\n",
      "(6.04, 8.02]       242285\n",
      "(8.02, 10.0]        43148\n",
      "(10.0, 11.98]       17815\n",
      "(11.98, 13.96]       9320\n",
      "(13.96, 15.94]       4808\n",
      "(15.94, 17.92]       2740\n",
      "(17.92, 19.9]        1774\n",
      "Name: count, dtype: int64\n"
     ]
    }
   ],
   "source": [
    "distance_bins = pd.cut(filtered_distance['distancekm'], bins=10)\n",
    "distance_value_counts = distance_bins.value_counts()\n",
    "print(distance_value_counts)"
   ]
  },
  {
   "cell_type": "code",
   "execution_count": 25,
   "metadata": {},
   "outputs": [
    {
     "data": {
      "text/plain": [
       "0.1"
      ]
     },
     "metadata": {},
     "output_type": "display_data"
    },
    {
     "data": {
      "text/plain": [
       "19.9"
      ]
     },
     "metadata": {},
     "output_type": "display_data"
    }
   ],
   "source": [
    "display(filtered_distance['distancekm'].min())\n",
    "display(filtered_distance['distancekm'].max())"
   ]
  },
  {
   "cell_type": "code",
   "execution_count": 26,
   "metadata": {},
   "outputs": [],
   "source": [
    "filtered_duration = filtered_distance.loc[(data['durationmin'] > 0) & (filtered_distance['durationmin'] < 100)]"
   ]
  },
  {
   "cell_type": "code",
   "execution_count": 27,
   "metadata": {},
   "outputs": [
    {
     "name": "stdout",
     "output_type": "stream",
     "text": [
      "durationmin\n",
      "(5.09, 6.088]       817349\n",
      "(6.088, 7.086]      804040\n",
      "(4.092, 5.09]       766800\n",
      "(7.086, 8.084]      766361\n",
      "(8.084, 9.082]      710179\n",
      "                     ...  \n",
      "(95.908, 96.906]       969\n",
      "(94.91, 95.908]        961\n",
      "(98.902, 99.9]         941\n",
      "(96.906, 97.904]       868\n",
      "(97.904, 98.902]       865\n",
      "Name: count, Length: 100, dtype: int64\n"
     ]
    }
   ],
   "source": [
    "duration_bins = pd.cut(filtered_duration['durationmin'], bins=100)\n",
    "duration_value_counts = duration_bins.value_counts()\n",
    "print(duration_value_counts)"
   ]
  },
  {
   "cell_type": "code",
   "execution_count": 28,
   "metadata": {},
   "outputs": [
    {
     "data": {
      "text/plain": [
       "0.1"
      ]
     },
     "metadata": {},
     "output_type": "display_data"
    },
    {
     "data": {
      "text/plain": [
       "99.9"
      ]
     },
     "metadata": {},
     "output_type": "display_data"
    }
   ],
   "source": [
    "display(filtered_duration['durationmin'].min())\n",
    "display(filtered_duration['durationmin'].max())"
   ]
  },
  {
   "cell_type": "code",
   "execution_count": 29,
   "metadata": {},
   "outputs": [
    {
     "data": {
      "text/html": [
       "<div>\n",
       "<style scoped>\n",
       "    .dataframe tbody tr th:only-of-type {\n",
       "        vertical-align: middle;\n",
       "    }\n",
       "\n",
       "    .dataframe tbody tr th {\n",
       "        vertical-align: top;\n",
       "    }\n",
       "\n",
       "    .dataframe thead th {\n",
       "        text-align: right;\n",
       "    }\n",
       "</style>\n",
       "<table border=\"1\" class=\"dataframe\">\n",
       "  <thead>\n",
       "    <tr style=\"text-align: right;\">\n",
       "      <th></th>\n",
       "      <th>departure</th>\n",
       "      <th>return</th>\n",
       "      <th>departure_id</th>\n",
       "      <th>departure_name</th>\n",
       "      <th>return_id</th>\n",
       "      <th>return_name</th>\n",
       "      <th>distancem</th>\n",
       "      <th>durationsec.</th>\n",
       "      <th>avg_speedkmh</th>\n",
       "      <th>departure_latitude</th>\n",
       "      <th>...</th>\n",
       "      <th>return_latitude</th>\n",
       "      <th>return_longitude</th>\n",
       "      <th>airtemperaturedegc</th>\n",
       "      <th>distancekm</th>\n",
       "      <th>durationmin</th>\n",
       "      <th>month</th>\n",
       "      <th>year</th>\n",
       "      <th>total_rentals</th>\n",
       "      <th>hour</th>\n",
       "      <th>weekday</th>\n",
       "    </tr>\n",
       "  </thead>\n",
       "  <tbody>\n",
       "    <tr>\n",
       "      <th>0</th>\n",
       "      <td>2020-03-23 06:09:44</td>\n",
       "      <td>2020-03-23 06:16:26</td>\n",
       "      <td>86</td>\n",
       "      <td>Kuusitie</td>\n",
       "      <td>111.0</td>\n",
       "      <td>Esterinportti</td>\n",
       "      <td>1747.0</td>\n",
       "      <td>401.0</td>\n",
       "      <td>0.3</td>\n",
       "      <td>60.195245</td>\n",
       "      <td>...</td>\n",
       "      <td>60.197572</td>\n",
       "      <td>24.926781</td>\n",
       "      <td>0.9</td>\n",
       "      <td>1.7</td>\n",
       "      <td>6.7</td>\n",
       "      <td>March</td>\n",
       "      <td>2020</td>\n",
       "      <td>2552</td>\n",
       "      <td>6</td>\n",
       "      <td>Monday</td>\n",
       "    </tr>\n",
       "    <tr>\n",
       "      <th>1</th>\n",
       "      <td>2020-03-23 06:11:58</td>\n",
       "      <td>2020-03-23 06:26:31</td>\n",
       "      <td>26</td>\n",
       "      <td>Kamppi (M)</td>\n",
       "      <td>10.0</td>\n",
       "      <td>Kasarmitori</td>\n",
       "      <td>1447.0</td>\n",
       "      <td>869.0</td>\n",
       "      <td>0.1</td>\n",
       "      <td>60.168610</td>\n",
       "      <td>...</td>\n",
       "      <td>60.165017</td>\n",
       "      <td>24.949473</td>\n",
       "      <td>0.9</td>\n",
       "      <td>1.4</td>\n",
       "      <td>14.5</td>\n",
       "      <td>March</td>\n",
       "      <td>2020</td>\n",
       "      <td>2552</td>\n",
       "      <td>6</td>\n",
       "      <td>Monday</td>\n",
       "    </tr>\n",
       "    <tr>\n",
       "      <th>2</th>\n",
       "      <td>2020-03-23 06:16:29</td>\n",
       "      <td>2020-03-23 06:24:23</td>\n",
       "      <td>268</td>\n",
       "      <td>Porolahden koulu</td>\n",
       "      <td>254.0</td>\n",
       "      <td>Agnetankuja</td>\n",
       "      <td>1772.0</td>\n",
       "      <td>469.0</td>\n",
       "      <td>0.2</td>\n",
       "      <td>60.195540</td>\n",
       "      <td>...</td>\n",
       "      <td>60.187234</td>\n",
       "      <td>25.036412</td>\n",
       "      <td>0.9</td>\n",
       "      <td>1.8</td>\n",
       "      <td>7.8</td>\n",
       "      <td>March</td>\n",
       "      <td>2020</td>\n",
       "      <td>2552</td>\n",
       "      <td>6</td>\n",
       "      <td>Monday</td>\n",
       "    </tr>\n",
       "    <tr>\n",
       "      <th>3</th>\n",
       "      <td>2020-03-23 06:33:53</td>\n",
       "      <td>2020-03-23 07:14:03</td>\n",
       "      <td>751</td>\n",
       "      <td>Vallipolku</td>\n",
       "      <td>106.0</td>\n",
       "      <td>Korppaanmäentie</td>\n",
       "      <td>7456.0</td>\n",
       "      <td>2406.0</td>\n",
       "      <td>0.2</td>\n",
       "      <td>60.227827</td>\n",
       "      <td>...</td>\n",
       "      <td>60.203474</td>\n",
       "      <td>24.898930</td>\n",
       "      <td>0.9</td>\n",
       "      <td>7.5</td>\n",
       "      <td>40.1</td>\n",
       "      <td>March</td>\n",
       "      <td>2020</td>\n",
       "      <td>2552</td>\n",
       "      <td>6</td>\n",
       "      <td>Monday</td>\n",
       "    </tr>\n",
       "    <tr>\n",
       "      <th>4</th>\n",
       "      <td>2020-03-23 06:36:09</td>\n",
       "      <td>2020-03-23 07:04:10</td>\n",
       "      <td>62</td>\n",
       "      <td>Länsisatamankatu</td>\n",
       "      <td>121.0</td>\n",
       "      <td>Vilhonvuorenkatu</td>\n",
       "      <td>7120.0</td>\n",
       "      <td>1679.0</td>\n",
       "      <td>0.3</td>\n",
       "      <td>60.158928</td>\n",
       "      <td>...</td>\n",
       "      <td>60.186463</td>\n",
       "      <td>24.967872</td>\n",
       "      <td>0.9</td>\n",
       "      <td>7.1</td>\n",
       "      <td>28.0</td>\n",
       "      <td>March</td>\n",
       "      <td>2020</td>\n",
       "      <td>2552</td>\n",
       "      <td>6</td>\n",
       "      <td>Monday</td>\n",
       "    </tr>\n",
       "  </tbody>\n",
       "</table>\n",
       "<p>5 rows × 21 columns</p>\n",
       "</div>"
      ],
      "text/plain": [
       "            departure               return departure_id    departure_name   \n",
       "0 2020-03-23 06:09:44  2020-03-23 06:16:26           86          Kuusitie  \\\n",
       "1 2020-03-23 06:11:58  2020-03-23 06:26:31           26        Kamppi (M)   \n",
       "2 2020-03-23 06:16:29  2020-03-23 06:24:23          268  Porolahden koulu   \n",
       "3 2020-03-23 06:33:53  2020-03-23 07:14:03          751        Vallipolku   \n",
       "4 2020-03-23 06:36:09  2020-03-23 07:04:10           62  Länsisatamankatu   \n",
       "\n",
       "  return_id       return_name  distancem  durationsec.  avg_speedkmh   \n",
       "0     111.0     Esterinportti     1747.0         401.0           0.3  \\\n",
       "1      10.0       Kasarmitori     1447.0         869.0           0.1   \n",
       "2     254.0       Agnetankuja     1772.0         469.0           0.2   \n",
       "3     106.0   Korppaanmäentie     7456.0        2406.0           0.2   \n",
       "4     121.0  Vilhonvuorenkatu     7120.0        1679.0           0.3   \n",
       "\n",
       "   departure_latitude  ...  return_latitude  return_longitude   \n",
       "0           60.195245  ...        60.197572         24.926781  \\\n",
       "1           60.168610  ...        60.165017         24.949473   \n",
       "2           60.195540  ...        60.187234         25.036412   \n",
       "3           60.227827  ...        60.203474         24.898930   \n",
       "4           60.158928  ...        60.186463         24.967872   \n",
       "\n",
       "   airtemperaturedegc  distancekm  durationmin  month  year  total_rentals   \n",
       "0                 0.9         1.7          6.7  March  2020           2552  \\\n",
       "1                 0.9         1.4         14.5  March  2020           2552   \n",
       "2                 0.9         1.8          7.8  March  2020           2552   \n",
       "3                 0.9         7.5         40.1  March  2020           2552   \n",
       "4                 0.9         7.1         28.0  March  2020           2552   \n",
       "\n",
       "   hour  weekday  \n",
       "0     6   Monday  \n",
       "1     6   Monday  \n",
       "2     6   Monday  \n",
       "3     6   Monday  \n",
       "4     6   Monday  \n",
       "\n",
       "[5 rows x 21 columns]"
      ]
     },
     "execution_count": 29,
     "metadata": {},
     "output_type": "execute_result"
    }
   ],
   "source": [
    "filtered_duration.head()"
   ]
  },
  {
   "cell_type": "code",
   "execution_count": 30,
   "metadata": {},
   "outputs": [],
   "source": [
    "droped_speed = filtered_duration.drop('avg_speedkmh', axis=1)\n",
    "#droped_speed.columns"
   ]
  },
  {
   "cell_type": "code",
   "execution_count": 31,
   "metadata": {},
   "outputs": [
    {
     "data": {
      "image/png": "[encoded data removed]",
      "text/plain": [
       "<Figure size 1000x800 with 16 Axes>"
      ]
     },
     "metadata": {},
     "output_type": "display_data"
    }
   ],
   "source": [
    "numerical.hist(bins=20, figsize=(10,8))\n",
    "plt.show()"
   ]
  },
  {
   "attachments": {},
   "cell_type": "markdown",
   "metadata": {},
   "source": [
    "Upon transferring the data to Tableau to create visualizations, I detected the presence of outliers within the departure and return names. In an effort to address this issue, I performed web scraping of the website https://www.cityfillarit.fi/en/, which displays a comprehensive list of all bike stations located in Helsinki and Espoo. After compiling the station names from this source into a list, I filtered the data based on this list to remove any outliers.\n",
    "\n",
    "While it is possible that some stations may have been added or removed between 2016 and 2020, I determined that this approach would provide a consistent and reliable dataset. Notably, the years 2016 and 2017 displayed stations that appear to be outside the bounds of Espoo and Helsinki, leading me to believe that these stations may not have existed in reality."
   ]
  },
  {
   "cell_type": "code",
   "execution_count": 32,
   "metadata": {},
   "outputs": [],
   "source": [
    "station_names = []\n",
    "station_names.extend(['A.I. Virtasen aukio', 'Aalto-yliopisto (M), Korkeakouluaukio', 'Aalto-yliopisto (M), Tietotie', 'Aapraminkaari', 'Abraham Wetterin tie', 'Agnetankuja', 'Agronominkatu', 'Ahertajantie', 'Ainontie', 'Ajomiehentie', 'Ala-Malmin tori', 'Alakiventie', 'Albertinkatu', 'Alppikylä', 'Annankatu', 'Ansatie', 'Antaksentie', 'Apollonkatu', 'Arabian kauppakeskus', 'Arabiankatu', 'Arielinkatu', 'Asentajanpuisto', 'Aulangontie', 'Auringonkatu', 'Aurinkokivenpiha', 'Aurinkolahdenaukio', 'Aurinkotuulenkatu', 'Avaruuskatu', 'Avia-aukio', 'Baana', 'Bermudankuja', 'Betonimies', 'Brahen kenttä', 'Brahen puistikko', 'Cygnaeuksenkatu', 'Derby Business Park', 'Designmuseo', 'Diakoniapuisto', 'Eerikinkatu', 'Ehrenströmintie', 'Elfvik', 'Elimäenkatu', 'Eläinmuseo', 'Energia Areena', 'Erottajan aukio', 'Eränkävijäntori', 'Esterinportti', 'Eteläesplanadi', 'Etuniementie', 'Etupellonpuisto', 'Fleminginkatu', 'Friisilänaukio', 'Gallen-Kallelan tie', 'Gebhardinaukio', 'Golfpolku', 'Gransinmäki', 'Gunillantie', 'Gyldenintie', 'Haagan tori', 'Haakoninlahdenkatu', 'Haapaniemenkatu', 'Haapasaarentie', 'Hagalundinpuisto', 'Hagelstaminpuisto', 'Hagelstamintie', 'Hakalehto', 'Hakaniemi (M)', 'Hakuninmaa', 'Halkaisijantie', 'Halmetie', 'Hanasaari', 'Hankasuontie', 'Hauenkallio', 'Hauenkalliontie', 'Haukilahdenaukio', 'Haukilahdenkatu', 'Haukilahdenranta', 'Haukilahdensolmu', 'Heikinlaakso', 'Heikkilänaukio', 'Heikkiläntie', 'Helluntairaitti', 'Hernepellontie', 'Hernesaarenranta', 'Hernetie', 'Hertanmäenkatu', 'Herttoniemen kirkko', 'Herttoniemenranta', 'Herttoniemi (M)', 'Heureka', 'Hiekkaharjun asema', 'Hiekkaharjun liikuntapuisto', 'Hiekkatie', 'Hietalahdentori', 'Hietaniemenkatu', 'Honkasuo', 'Honkasuo', 'Huhtakuja', 'Humalniementie', 'Humikkalankuja', 'Huopalahden asema', 'Huopalahdentie', 'Huovitie', 'Hämeenlinnanväylä', 'Ida Aalbergin tie', 'Ilmalan asema', 'Innopoli', 'Intiankatu', 'Isoisänsilta', 'Itäkeskus (M)', 'Itäkeskus Metrovarikko', 'Itälahdenkatu', 'Itämerentori', 'Itäportti', 'Jakomäentie', 'Jakomäki', 'Jalavatie', 'Jokiniemenkatu', 'Jokipellontie', 'Jollas', 'Juhana Herttuan tie', 'Jumbo P1-taso', 'Jumbo P3-taso', 'Jämeräntaival', 'Jännetie', 'Jätkäsaarenlaituri', 'Jäähalli', 'Kaapelitehdas', 'Kaisaniemenpuisto', 'Kaivokselantie', 'Kaivonkatsojanpuisto', 'Kaivopuisto', 'Kalannintie', 'Kalasatama (M)', 'Kalevalantie', 'Kalevankatu', 'Kalkkihiekantie', 'Kalkkipellonmäki', 'Kamppi (M)', 'Kanavaranta', 'Kannelmäen asema', 'Kannelmäen liikuntapuisto', 'Kansallismuseo', 'Kapteeninpuistikko', 'Karhulantie', 'Karhusuontie', 'Kartanonkosken liikuntapuisto', 'Karviaistie', 'Kasarmitori', 'Katariina Saksilaisen katu', 'Kauppakeskus Columbus', 'Kauppakeskus Kaari', 'Kauppakorkeakoulu', 'Kauppalaivurintie', 'Kaustisentie', 'Keilalahti', 'Keilaniemi (M)', 'Keilaranta', 'Kesäkatu', 'Kiasma', 'Kilterinaukio', 'Kirkkoherrantie', 'Kiskanpuisto', 'Kiskontie', 'Kivikon liikuntapuisto', 'Kivikonkaari', 'Kivikonlaita', 'Kivistön asema', 'Koetilankuja', 'Koivu-Mankkaa', 'Koivukylän asema', 'Koivusaari (M)', 'Koivutori', 'Koivuvaarankuja', 'Komeetankatu', 'Komentajankatu', 'Kontula (M)', 'Kontulankaari', 'Korjaamo', 'Korkeasaari', 'Korppaanmäentie', 'Koskelan varikko', 'Koskelantie', 'Kotinummentie', 'Koukkusaarentie', 'Kriikunakuja', 'Kuikkarinne', 'Kukinkuja', 'Kulosaari (M)', 'Kulttuuriaukio', 'Kuninkaantammi', 'Kuohukuja', 'Kurjenpolvenpuisto', 'Kurkijoentie', 'Kurkimäentie', 'Kurkimäki', 'Kustaankartano', 'Kustaankatu', 'Kutsuntatie', 'Kuunkatu', 'Kuusisaari', 'Kuusitie', 'Kydönaukio', 'Kylävoudintie', 'Käpylän asema', 'Käpyläntie', 'Kössi Koskisen aukio', 'Laajalahden aukio', 'Laajalahden keskus', 'Laajasalon ostoskeskus', 'Laajavuorentie', 'Laivalahden puistotie', 'Laivasillankatu', 'Lallukankuja', 'Lammasrinne', 'Lastenlehto', 'Laulurastaantie', 'Lauttasaaren ostoskeskus', 'Lauttasaarensilta', 'Lehtisaarentie', 'Leikosaarentie', 'Leinelän asema', 'Leinikkitie', 'Lepolantie', 'Leppäsuonaukio', 'Leppävaaran uimahalli', 'Leppävaaran urheilupuisto', 'Leppävaaranaukio', 'Leppävaarankäytävä', 'Lettopolku', 'Liesikuja', 'Liisanpuistikko', 'Liljatie', 'Lincolninaukio', 'Linnakepolku', 'Linnanmäki', 'Linnuntie', 'Lintulahdenkatu', 'Lokitie', 'Louhelan asema', 'Louhentori', 'Luhtimäki', 'Lukutori', 'Luoteisväylä', 'Lystimäensilta', 'Lystimäki', 'Läkkitori', 'Länsisatamankatu', 'Länsisatamankuja', 'Länsiterminaali', 'Länsituuli', 'Maalitori', 'Maarinranta', 'Maatullinkuja', 'Maistraatintori', 'Maitikka-aukio', 'Majurinkulma', 'Malmin asema', 'Malmin sairaala', 'Malminiitynpolku', 'Malminiitynpuisto', 'Malminkartanon asema', 'Malminkartanonhuippu', 'Mamsellimyllynkatu', 'Mankkaanaukio', 'Mankkaanlaaksontie', 'Mannerheimintie', 'Margareetankuja', 'Marian sairaala', 'Marjaniementie', 'Marjaniemi', 'Martinkyläntie', 'Martinlaakson asema', 'Martinlaakson uimahalli', 'Martinlaaksontie', 'Marttila', 'Mastokatu', 'Matinkartanontie', 'Matinkyläntie', 'Matinlahdenranta', 'Maunula', 'Maununneva', 'Meilahden sairaala', 'Melkonkuja', 'Mellstenintie', 'Mellunmäki (M)', 'Meri-Rastilan tori', 'Merihaka', 'Meripihkatori', 'Merisotilaantori', 'Messeniuksenkatu', 'Mestarinkatu', 'Mestarintie', 'Metsänneidonpolku', 'Mikkolantie', 'Mosaiikkitori', 'Munkkiniemen aukio', 'Munkkivuoren ostoskeskus', 'Muotoilijankatu', 'Mustikkamaa', 'Muurarinkuja', 'Muusantori', 'Myllypuro (M)', 'Myyrmäen asema', 'Myyrmäen jäähalli', 'Myyrmäen uimahalli', 'Mäkelänkatu', 'Mäkitorpantie', 'Mäkkylän asema', 'Mäntyviita', 'Narinkka', 'Nelikkotie', 'Niittykumpu (M)', 'Niittymaa', 'Nokkala', 'Nordenskiöldinaukio', 'Nuijatie', 'Nuottaniementie', 'Näkinsilta', 'Näyttelijäntie', 'Olarinluoma', 'Oljenkorsi', 'Ollaksentie', 'Olympiastadion', 'Ooppera', 'Opastinsilta', 'Oravannahkatori', 'Orionintie', 'Orpaanporras', 'Osumakuja', 'Otaranta', 'Otsolahti', 'Otto Brandtin tie', 'Oulunkylän asema', 'Outotec', 'Paavalinpuisto', 'Paciuksenkaari', 'Paciuksenkatu', 'Painiitty', 'Pajamäki', 'Pajupillintie', 'Pakkalan puistotie', 'Paloheinän kirjasto', 'Paloheinän maja', 'Paloheinäntie', 'Pasilan asema', 'Pernajantie', 'Perämiehenkatu', 'Petikontie', 'Petter Wetterin tie', 'Peukaloisentie', 'Pihlajamäki', 'Piikintie', 'Piispankallio', 'Piispanportti', 'Piispansilta', 'Pirkkolan liikuntapuisto', 'Pitäjänmäen asema', 'Pohjankulma', 'Pohjois-Haagan asema', 'Pohjolanaukio', 'Pohjolankatu', 'Porolahden koulu', 'Porthania', 'Porvarintie', 'Postipuisto', 'Postipuun koulu', 'Prinsessantie', 'Puistokaari', 'Puistolan VPK', 'Puistolan asema', 'Pukinmäen asema', 'Pukinmäen liikuntapuisto', 'Punakiventie', 'Puotila (M)', 'Puotilan ostoskeskus', 'Puotilantie', 'Puotinharju', 'Puotinkylän kartano', 'Purjetie', 'Puutarhatie', 'Pyhtäänkorventie', 'Pähkinärinteen kirjasto', 'Päijänteentie', 'Radiokatu', 'Rajasaarentie', 'Ramsinniementie', 'Rapakiventie', 'Rastila (M)', 'Ratapihantie', 'Ratsutori', 'Rautatieläisenkatu', 'Rautatientori / itä', 'Rautatientori / länsi', 'Reiherintie', 'Rekolan asema', 'Relanderinaukio', 'Revontulentie', 'Riistakuja', 'Rillitori', 'Ritarikatu', 'Robert Huberin tie', 'Roihupelto', 'Rubiinipuisto', 'Rukatunturintie', 'Rummunlyöjänkatu', 'Ruomelantie', 'Ruskeasuon varikko', 'Ruutikatu', 'Rälssitie', 'Sairaalakatu', 'Sallatunturintie', 'Salmisaarenranta', 'Sammonpuistikko', 'Sananjalanpolku', 'Saniaiskuja', 'Sateenkaarentie', 'Sateentie', 'Saunalahdentie', 'Sauvatie', 'Savela', 'Senaatintori', 'Sepetlahdentie', 'Sepänkatu', 'Seurasaari', 'Siilitie (M)', 'Siilitie 13', 'Siilitie 9', 'Siltamäki', 'Siltavoudintie', 'Silvola', 'Sinkilätie', 'Sofianlehdonkatu', 'Sompasaari', 'Stenbäckinkatu', 'Sumukuja', 'Suokalliontie', 'Suomenlahdentie', 'Suopursunaukio', 'Suurpellonaukio', 'Syystie', 'Sähkömies', 'Säteri', 'Säterinniitty', 'Säterinrinne', 'Sörnäinen (M)', 'Tahkotie', 'Takomotie', 'Talkootori', 'Tammisalon aukio', 'Tammiston kauppatie', 'Tammistonkatu', 'Tammistontie', 'Tapanilan asema', 'Tapaninkyläntie', 'Tapiolan urheilupuisto', 'Tapionaukio', 'Tarhurinaukio', 'Tasetie', 'Teerisuontie', 'Tekniikantie', 'Teknobulevardi', 'Teletie', 'Teljäntie', 'Tenholantie', 'Teollisuuskatu', 'Teurastamo', 'Thalianaukio', 'Tietäjä', 'Tiistiläntie', 'Tiistinkallio', 'Tikkurilan asema', 'Tikkurilan urheilupuisto', 'Tilkantori', 'Tilkanvierto', 'Tilketori', 'Toinen linja', 'Tollinpolku', 'Tontunmäentie', 'Toppelundinportti', 'Toppelundintie', 'Torpanranta', 'Torpparinmäentie', 'Trumpettikuja', 'Tulisuontie', 'Tunnelitie', 'Tuohipolku', 'Tupasaarentie', 'Tuukkalantie', 'Tuulimäki', 'Tuupakankuja', 'Tyynenmerenkatu', 'Töyrynummentie', 'Töyrynummi', 'Töölönkatu', 'Töölönlahden puisto', 'Töölönlahdenkatu', 'Töölöntori', 'Töölöntulli', 'Uimastadion', 'Ulappasilta', 'Ulvilantie', 'Unioninkatu', 'Upseerinkatu', 'Urhea-kampus', 'Urheilupuisto (M)', 'Urheilutie', 'Vaisala', 'Valimon asema', 'Valimotie', 'Vallikatu', 'Vallilan\\xa0varikko', 'Vallipolku', 'Vanha Kauppahalli', 'Vanha Tapanilantie', 'Vanha Viertotie', 'Vanha kirkkopuisto', 'Vantaankosken asema', 'Vantaanlaaksontie', 'Vantaanpuisto', 'Varsapuistikko', 'Vartioharjuntie', 'Varustuksentie', 'Vehkalan asema', 'Velodrominrinne', 'Venttiilikuja', 'Verkatehtaanpuisto', 'Verkkosaari', 'Vesakkotie', 'Vetokuja', 'Vihdintie', 'Viikin normaalikoulu', 'Viikin tiedepuisto', 'Viiskulma', 'Vilhonvuorenkatu', 'Viljelijäntie', 'Virnatie', 'Voikukantie', 'Von Daehnin katu', 'Vuorimestarintori', 'Vuosaaren liikuntapuisto', 'Vuosaaren puistopolku', 'Vähäntuvantie', 'Väinö Tannerin tie', 'Välimerenkatu', 'Väärämäentie', 'Westendinasema', 'Westendintie', 'Yhdyskunnankuja', 'Ympyrätalo'])\n",
    "\n",
    "#station_names"
   ]
  },
  {
   "cell_type": "code",
   "execution_count": 33,
   "metadata": {},
   "outputs": [
    {
     "data": {
      "text/html": [
       "<div>\n",
       "<style scoped>\n",
       "    .dataframe tbody tr th:only-of-type {\n",
       "        vertical-align: middle;\n",
       "    }\n",
       "\n",
       "    .dataframe tbody tr th {\n",
       "        vertical-align: top;\n",
       "    }\n",
       "\n",
       "    .dataframe thead th {\n",
       "        text-align: right;\n",
       "    }\n",
       "</style>\n",
       "<table border=\"1\" class=\"dataframe\">\n",
       "  <thead>\n",
       "    <tr style=\"text-align: right;\">\n",
       "      <th></th>\n",
       "      <th>departure_name</th>\n",
       "    </tr>\n",
       "  </thead>\n",
       "  <tbody>\n",
       "    <tr>\n",
       "      <th>96</th>\n",
       "      <td>Eteläinen Hesperiankatu</td>\n",
       "    </tr>\n",
       "    <tr>\n",
       "      <th>131</th>\n",
       "      <td>Eteläinen Hesperiankatu</td>\n",
       "    </tr>\n",
       "    <tr>\n",
       "      <th>251</th>\n",
       "      <td>Eteläinen Hesperiankatu</td>\n",
       "    </tr>\n",
       "    <tr>\n",
       "      <th>268</th>\n",
       "      <td>Eteläinen Hesperiankatu</td>\n",
       "    </tr>\n",
       "    <tr>\n",
       "      <th>340</th>\n",
       "      <td>Hollolantie</td>\n",
       "    </tr>\n",
       "    <tr>\n",
       "      <th>...</th>\n",
       "      <td>...</td>\n",
       "    </tr>\n",
       "    <tr>\n",
       "      <th>12156867</th>\n",
       "      <td>Karhupuisto</td>\n",
       "    </tr>\n",
       "    <tr>\n",
       "      <th>12157142</th>\n",
       "      <td>Eteläinen Hesperiankatu</td>\n",
       "    </tr>\n",
       "    <tr>\n",
       "      <th>12157154</th>\n",
       "      <td>Eteläinen Hesperiankatu</td>\n",
       "    </tr>\n",
       "    <tr>\n",
       "      <th>12157333</th>\n",
       "      <td>Karhupuisto</td>\n",
       "    </tr>\n",
       "    <tr>\n",
       "      <th>12157449</th>\n",
       "      <td>Eteläinen Hesperiankatu</td>\n",
       "    </tr>\n",
       "  </tbody>\n",
       "</table>\n",
       "<p>165301 rows × 1 columns</p>\n",
       "</div>"
      ],
      "text/plain": [
       "                   departure_name\n",
       "96        Eteläinen Hesperiankatu\n",
       "131       Eteläinen Hesperiankatu\n",
       "251       Eteläinen Hesperiankatu\n",
       "268       Eteläinen Hesperiankatu\n",
       "340                   Hollolantie\n",
       "...                           ...\n",
       "12156867              Karhupuisto\n",
       "12157142  Eteläinen Hesperiankatu\n",
       "12157154  Eteläinen Hesperiankatu\n",
       "12157333              Karhupuisto\n",
       "12157449  Eteläinen Hesperiankatu\n",
       "\n",
       "[165301 rows x 1 columns]"
      ]
     },
     "execution_count": 33,
     "metadata": {},
     "output_type": "execute_result"
    }
   ],
   "source": [
    "mask = droped_speed['departure_name'].isin(station_names)\n",
    "invert_mask = ~mask\n",
    "missing_stations = droped_speed[invert_mask][['departure_name']]\n",
    "missing_stations"
   ]
  },
  {
   "cell_type": "code",
   "execution_count": 34,
   "metadata": {},
   "outputs": [],
   "source": [
    "data_clean = droped_speed[droped_speed['departure_name'].isin(station_names)]"
   ]
  },
  {
   "cell_type": "code",
   "execution_count": 35,
   "metadata": {},
   "outputs": [
    {
     "data": {
      "text/plain": [
       "(11345661, 20)"
      ]
     },
     "metadata": {},
     "output_type": "display_data"
    },
    {
     "data": {
      "text/plain": [
       "(11180360, 20)"
      ]
     },
     "metadata": {},
     "output_type": "display_data"
    }
   ],
   "source": [
    "display(droped_speed.shape)\n",
    "display(data_clean.shape)"
   ]
  },
  {
   "cell_type": "code",
   "execution_count": 36,
   "metadata": {},
   "outputs": [
    {
     "data": {
      "text/plain": [
       "departure                  0\n",
       "return                     0\n",
       "departure_id               0\n",
       "departure_name             0\n",
       "return_id                  0\n",
       "return_name                0\n",
       "distancem                  0\n",
       "durationsec.               0\n",
       "departure_latitude         0\n",
       "departure_longitude        0\n",
       "return_latitude            1\n",
       "return_longitude           1\n",
       "airtemperaturedegc     14613\n",
       "distancekm                 0\n",
       "durationmin                0\n",
       "month                      0\n",
       "year                       0\n",
       "total_rentals              0\n",
       "hour                       0\n",
       "weekday                    0\n",
       "dtype: int64"
      ]
     },
     "execution_count": 36,
     "metadata": {},
     "output_type": "execute_result"
    }
   ],
   "source": [
    "data_clean.isnull().sum()"
   ]
  },
  {
   "cell_type": "code",
   "execution_count": 37,
   "metadata": {},
   "outputs": [
    {
     "name": "stderr",
     "output_type": "stream",
     "text": [
      "/var/folders/6m/xnrf68g93dj9cnj3lwnc18b00000gn/T/ipykernel_99907/4221202513.py:1: SettingWithCopyWarning: \n",
      "A value is trying to be set on a copy of a slice from a DataFrame\n",
      "\n",
      "See the caveats in the documentation: https://pandas.pydata.org/pandas-docs/stable/user_guide/indexing.html#returning-a-view-versus-a-copy\n",
      "  data_clean.dropna(inplace=True)\n"
     ]
    },
    {
     "name": "stdout",
     "output_type": "stream",
     "text": [
      "(11165746, 20)\n",
      "departure              0\n",
      "return                 0\n",
      "departure_id           0\n",
      "departure_name         0\n",
      "return_id              0\n",
      "return_name            0\n",
      "distancem              0\n",
      "durationsec.           0\n",
      "departure_latitude     0\n",
      "departure_longitude    0\n",
      "return_latitude        0\n",
      "return_longitude       0\n",
      "airtemperaturedegc     0\n",
      "distancekm             0\n",
      "durationmin            0\n",
      "month                  0\n",
      "year                   0\n",
      "total_rentals          0\n",
      "hour                   0\n",
      "weekday                0\n",
      "dtype: int64\n"
     ]
    }
   ],
   "source": [
    "data_clean.dropna(inplace=True)\n",
    "data_clean.reset_index(drop=True, inplace=True)\n",
    "\n",
    "print(data_clean.shape)\n",
    "print(data_clean.isnull().sum())"
   ]
  },
  {
   "cell_type": "code",
   "execution_count": 38,
   "metadata": {},
   "outputs": [],
   "source": [
    "#final clean data\n",
    "data_clean.to_csv('data_clean.csv', index=False)"
   ]
  },
  {
   "cell_type": "code",
   "execution_count": 39,
   "metadata": {},
   "outputs": [],
   "source": [
    "# Filter data based on year and create new dataframes\n",
    "rentals_2020 = data_clean[data_clean['departure'].dt.year == 2020]\n",
    "rentals_2019 = data_clean[data_clean['departure'].dt.year == 2019]\n",
    "rentals_2018 = data_clean[data_clean['departure'].dt.year == 2018]\n",
    "rentals_2017 = data_clean[data_clean['departure'].dt.year == 2017]\n",
    "rentals_2016 = data_clean[data_clean['departure'].dt.year == 2016]"
   ]
  }
 ],
 "metadata": {
  "kernelspec": {
   "display_name": "Python 3 (ipykernel)",
   "language": "python",
   "name": "python3"
  },
  "language_info": {
   "codemirror_mode": {
    "name": "ipython",
    "version": 3
   },
   "file_extension": ".py",
   "mimetype": "text/x-python",
   "name": "python",
   "nbconvert_exporter": "python",
   "pygments_lexer": "ipython3",
   "version": "3.9.12"
  },
  "varInspector": {
   "cols": {
    "lenName": 16,
    "lenType": 16,
    "lenVar": 40
   },
   "kernels_config": {
    "python": {
     "delete_cmd_postfix": "",
     "delete_cmd_prefix": "del ",
     "library": "var_list.py",
     "varRefreshCmd": "print(var_dic_list())"
    },
    "r": {
     "delete_cmd_postfix": ") ",
     "delete_cmd_prefix": "rm(",
     "library": "var_list.r",
     "varRefreshCmd": "cat(var_dic_list()) "
    }
   },
   "types_to_exclude": [
    "module",
    "function",
    "builtin_function_or_method",
    "instance",
    "_Feature"
   ],
   "window_display": false
  },
  "vscode": {
   "interpreter": {
    "hash": "aee8b7b246df8f9039afb4144a1f6fd8d2ca17a180786b69acc140d282b71a49"
   }
  }
 },
 "nbformat": 4,
 "nbformat_minor": 4
}
